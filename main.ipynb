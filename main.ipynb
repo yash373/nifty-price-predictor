{
 "cells": [
  {
   "cell_type": "markdown",
   "metadata": {},
   "source": [
    "Imports"
   ]
  },
  {
   "cell_type": "code",
   "execution_count": 83,
   "metadata": {},
   "outputs": [],
   "source": [
    "import yfinance as yf\n",
    "import numpy as np"
   ]
  },
  {
   "cell_type": "markdown",
   "metadata": {},
   "source": [
    "Getting Nifty50 data"
   ]
  },
  {
   "cell_type": "code",
   "execution_count": 84,
   "metadata": {},
   "outputs": [],
   "source": [
    "nifty = yf.Ticker(\"^NSEI\")"
   ]
  },
  {
   "cell_type": "code",
   "execution_count": 85,
   "metadata": {},
   "outputs": [
    {
     "data": {
      "text/html": [
       "<div>\n",
       "<style scoped>\n",
       "    .dataframe tbody tr th:only-of-type {\n",
       "        vertical-align: middle;\n",
       "    }\n",
       "\n",
       "    .dataframe tbody tr th {\n",
       "        vertical-align: top;\n",
       "    }\n",
       "\n",
       "    .dataframe thead th {\n",
       "        text-align: right;\n",
       "    }\n",
       "</style>\n",
       "<table border=\"1\" class=\"dataframe\">\n",
       "  <thead>\n",
       "    <tr style=\"text-align: right;\">\n",
       "      <th></th>\n",
       "      <th>Open</th>\n",
       "      <th>High</th>\n",
       "      <th>Low</th>\n",
       "      <th>Close</th>\n",
       "      <th>Volume</th>\n",
       "      <th>Dividends</th>\n",
       "      <th>Stock Splits</th>\n",
       "    </tr>\n",
       "    <tr>\n",
       "      <th>Date</th>\n",
       "      <th></th>\n",
       "      <th></th>\n",
       "      <th></th>\n",
       "      <th></th>\n",
       "      <th></th>\n",
       "      <th></th>\n",
       "      <th></th>\n",
       "    </tr>\n",
       "  </thead>\n",
       "  <tbody>\n",
       "    <tr>\n",
       "      <th>2019-10-25 00:00:00+05:30</th>\n",
       "      <td>11646.150391</td>\n",
       "      <td>11646.900391</td>\n",
       "      <td>11490.750000</td>\n",
       "      <td>11583.900391</td>\n",
       "      <td>812000</td>\n",
       "      <td>0.0</td>\n",
       "      <td>0.0</td>\n",
       "    </tr>\n",
       "    <tr>\n",
       "      <th>2019-10-29 00:00:00+05:30</th>\n",
       "      <td>11643.950195</td>\n",
       "      <td>11809.400391</td>\n",
       "      <td>11627.349609</td>\n",
       "      <td>11786.849609</td>\n",
       "      <td>951700</td>\n",
       "      <td>0.0</td>\n",
       "      <td>0.0</td>\n",
       "    </tr>\n",
       "    <tr>\n",
       "      <th>2019-10-30 00:00:00+05:30</th>\n",
       "      <td>11883.900391</td>\n",
       "      <td>11883.950195</td>\n",
       "      <td>11784.450195</td>\n",
       "      <td>11844.099609</td>\n",
       "      <td>725200</td>\n",
       "      <td>0.0</td>\n",
       "      <td>0.0</td>\n",
       "    </tr>\n",
       "    <tr>\n",
       "      <th>2019-10-31 00:00:00+05:30</th>\n",
       "      <td>11890.450195</td>\n",
       "      <td>11945.000000</td>\n",
       "      <td>11855.099609</td>\n",
       "      <td>11877.450195</td>\n",
       "      <td>1414800</td>\n",
       "      <td>0.0</td>\n",
       "      <td>0.0</td>\n",
       "    </tr>\n",
       "    <tr>\n",
       "      <th>2019-11-01 00:00:00+05:30</th>\n",
       "      <td>11886.599609</td>\n",
       "      <td>11918.299805</td>\n",
       "      <td>11843.349609</td>\n",
       "      <td>11890.599609</td>\n",
       "      <td>855300</td>\n",
       "      <td>0.0</td>\n",
       "      <td>0.0</td>\n",
       "    </tr>\n",
       "    <tr>\n",
       "      <th>...</th>\n",
       "      <td>...</td>\n",
       "      <td>...</td>\n",
       "      <td>...</td>\n",
       "      <td>...</td>\n",
       "      <td>...</td>\n",
       "      <td>...</td>\n",
       "      <td>...</td>\n",
       "    </tr>\n",
       "    <tr>\n",
       "      <th>2024-10-21 00:00:00+05:30</th>\n",
       "      <td>24956.150391</td>\n",
       "      <td>24978.300781</td>\n",
       "      <td>24679.599609</td>\n",
       "      <td>24781.099609</td>\n",
       "      <td>242000</td>\n",
       "      <td>0.0</td>\n",
       "      <td>0.0</td>\n",
       "    </tr>\n",
       "    <tr>\n",
       "      <th>2024-10-22 00:00:00+05:30</th>\n",
       "      <td>24798.650391</td>\n",
       "      <td>24882.000000</td>\n",
       "      <td>24445.800781</td>\n",
       "      <td>24472.099609</td>\n",
       "      <td>279500</td>\n",
       "      <td>0.0</td>\n",
       "      <td>0.0</td>\n",
       "    </tr>\n",
       "    <tr>\n",
       "      <th>2024-10-23 00:00:00+05:30</th>\n",
       "      <td>24378.150391</td>\n",
       "      <td>24604.250000</td>\n",
       "      <td>24378.099609</td>\n",
       "      <td>24435.500000</td>\n",
       "      <td>284600</td>\n",
       "      <td>0.0</td>\n",
       "      <td>0.0</td>\n",
       "    </tr>\n",
       "    <tr>\n",
       "      <th>2024-10-24 00:00:00+05:30</th>\n",
       "      <td>24412.699219</td>\n",
       "      <td>24480.650391</td>\n",
       "      <td>24341.199219</td>\n",
       "      <td>24399.400391</td>\n",
       "      <td>216700</td>\n",
       "      <td>0.0</td>\n",
       "      <td>0.0</td>\n",
       "    </tr>\n",
       "    <tr>\n",
       "      <th>2024-10-25 00:00:00+05:30</th>\n",
       "      <td>24418.050781</td>\n",
       "      <td>24440.250000</td>\n",
       "      <td>24207.650391</td>\n",
       "      <td>24218.849609</td>\n",
       "      <td>0</td>\n",
       "      <td>0.0</td>\n",
       "      <td>0.0</td>\n",
       "    </tr>\n",
       "  </tbody>\n",
       "</table>\n",
       "<p>1238 rows × 7 columns</p>\n",
       "</div>"
      ],
      "text/plain": [
       "                                   Open          High           Low  \\\n",
       "Date                                                                  \n",
       "2019-10-25 00:00:00+05:30  11646.150391  11646.900391  11490.750000   \n",
       "2019-10-29 00:00:00+05:30  11643.950195  11809.400391  11627.349609   \n",
       "2019-10-30 00:00:00+05:30  11883.900391  11883.950195  11784.450195   \n",
       "2019-10-31 00:00:00+05:30  11890.450195  11945.000000  11855.099609   \n",
       "2019-11-01 00:00:00+05:30  11886.599609  11918.299805  11843.349609   \n",
       "...                                 ...           ...           ...   \n",
       "2024-10-21 00:00:00+05:30  24956.150391  24978.300781  24679.599609   \n",
       "2024-10-22 00:00:00+05:30  24798.650391  24882.000000  24445.800781   \n",
       "2024-10-23 00:00:00+05:30  24378.150391  24604.250000  24378.099609   \n",
       "2024-10-24 00:00:00+05:30  24412.699219  24480.650391  24341.199219   \n",
       "2024-10-25 00:00:00+05:30  24418.050781  24440.250000  24207.650391   \n",
       "\n",
       "                                  Close   Volume  Dividends  Stock Splits  \n",
       "Date                                                                       \n",
       "2019-10-25 00:00:00+05:30  11583.900391   812000        0.0           0.0  \n",
       "2019-10-29 00:00:00+05:30  11786.849609   951700        0.0           0.0  \n",
       "2019-10-30 00:00:00+05:30  11844.099609   725200        0.0           0.0  \n",
       "2019-10-31 00:00:00+05:30  11877.450195  1414800        0.0           0.0  \n",
       "2019-11-01 00:00:00+05:30  11890.599609   855300        0.0           0.0  \n",
       "...                                 ...      ...        ...           ...  \n",
       "2024-10-21 00:00:00+05:30  24781.099609   242000        0.0           0.0  \n",
       "2024-10-22 00:00:00+05:30  24472.099609   279500        0.0           0.0  \n",
       "2024-10-23 00:00:00+05:30  24435.500000   284600        0.0           0.0  \n",
       "2024-10-24 00:00:00+05:30  24399.400391   216700        0.0           0.0  \n",
       "2024-10-25 00:00:00+05:30  24218.849609        0        0.0           0.0  \n",
       "\n",
       "[1238 rows x 7 columns]"
      ]
     },
     "execution_count": 85,
     "metadata": {},
     "output_type": "execute_result"
    }
   ],
   "source": [
    "data = nifty.history(period=\"5y\")\n",
    "data"
   ]
  },
  {
   "cell_type": "code",
   "execution_count": 86,
   "metadata": {},
   "outputs": [
    {
     "data": {
      "text/html": [
       "<div>\n",
       "<style scoped>\n",
       "    .dataframe tbody tr th:only-of-type {\n",
       "        vertical-align: middle;\n",
       "    }\n",
       "\n",
       "    .dataframe tbody tr th {\n",
       "        vertical-align: top;\n",
       "    }\n",
       "\n",
       "    .dataframe thead th {\n",
       "        text-align: right;\n",
       "    }\n",
       "</style>\n",
       "<table border=\"1\" class=\"dataframe\">\n",
       "  <thead>\n",
       "    <tr style=\"text-align: right;\">\n",
       "      <th></th>\n",
       "      <th>Close</th>\n",
       "    </tr>\n",
       "    <tr>\n",
       "      <th>Date</th>\n",
       "      <th></th>\n",
       "    </tr>\n",
       "  </thead>\n",
       "  <tbody>\n",
       "    <tr>\n",
       "      <th>2019-10-25 00:00:00+05:30</th>\n",
       "      <td>11583.900391</td>\n",
       "    </tr>\n",
       "    <tr>\n",
       "      <th>2019-10-29 00:00:00+05:30</th>\n",
       "      <td>11786.849609</td>\n",
       "    </tr>\n",
       "    <tr>\n",
       "      <th>2019-10-30 00:00:00+05:30</th>\n",
       "      <td>11844.099609</td>\n",
       "    </tr>\n",
       "    <tr>\n",
       "      <th>2019-10-31 00:00:00+05:30</th>\n",
       "      <td>11877.450195</td>\n",
       "    </tr>\n",
       "    <tr>\n",
       "      <th>2019-11-01 00:00:00+05:30</th>\n",
       "      <td>11890.599609</td>\n",
       "    </tr>\n",
       "    <tr>\n",
       "      <th>...</th>\n",
       "      <td>...</td>\n",
       "    </tr>\n",
       "    <tr>\n",
       "      <th>2024-10-21 00:00:00+05:30</th>\n",
       "      <td>24781.099609</td>\n",
       "    </tr>\n",
       "    <tr>\n",
       "      <th>2024-10-22 00:00:00+05:30</th>\n",
       "      <td>24472.099609</td>\n",
       "    </tr>\n",
       "    <tr>\n",
       "      <th>2024-10-23 00:00:00+05:30</th>\n",
       "      <td>24435.500000</td>\n",
       "    </tr>\n",
       "    <tr>\n",
       "      <th>2024-10-24 00:00:00+05:30</th>\n",
       "      <td>24399.400391</td>\n",
       "    </tr>\n",
       "    <tr>\n",
       "      <th>2024-10-25 00:00:00+05:30</th>\n",
       "      <td>24218.849609</td>\n",
       "    </tr>\n",
       "  </tbody>\n",
       "</table>\n",
       "<p>1238 rows × 1 columns</p>\n",
       "</div>"
      ],
      "text/plain": [
       "                                  Close\n",
       "Date                                   \n",
       "2019-10-25 00:00:00+05:30  11583.900391\n",
       "2019-10-29 00:00:00+05:30  11786.849609\n",
       "2019-10-30 00:00:00+05:30  11844.099609\n",
       "2019-10-31 00:00:00+05:30  11877.450195\n",
       "2019-11-01 00:00:00+05:30  11890.599609\n",
       "...                                 ...\n",
       "2024-10-21 00:00:00+05:30  24781.099609\n",
       "2024-10-22 00:00:00+05:30  24472.099609\n",
       "2024-10-23 00:00:00+05:30  24435.500000\n",
       "2024-10-24 00:00:00+05:30  24399.400391\n",
       "2024-10-25 00:00:00+05:30  24218.849609\n",
       "\n",
       "[1238 rows x 1 columns]"
      ]
     },
     "execution_count": 86,
     "metadata": {},
     "output_type": "execute_result"
    }
   ],
   "source": [
    "data.drop(columns=[\"Dividends\",\"Stock Splits\",\"Volume\",\"High\",\"Open\",\"Low\"],axis=1, inplace=True)\n",
    "data"
   ]
  },
  {
   "cell_type": "code",
   "execution_count": 87,
   "metadata": {},
   "outputs": [
    {
     "data": {
      "text/plain": [
       "array([11583.90039062, 11786.84960938, 11844.09960938, ...,\n",
       "       24435.5       , 24399.40039062, 24218.84960938])"
      ]
     },
     "execution_count": 87,
     "metadata": {},
     "output_type": "execute_result"
    }
   ],
   "source": [
    "prices = data[\"Close\"].to_numpy()\n",
    "prices"
   ]
  },
  {
   "cell_type": "code",
   "execution_count": 88,
   "metadata": {},
   "outputs": [
    {
     "data": {
      "text/plain": [
       "1238"
      ]
     },
     "execution_count": 88,
     "metadata": {},
     "output_type": "execute_result"
    }
   ],
   "source": [
    "no_of_days = len(prices)\n",
    "no_of_days"
   ]
  },
  {
   "cell_type": "markdown",
   "metadata": {},
   "source": [
    "Train-test split"
   ]
  },
  {
   "cell_type": "code",
   "execution_count": 89,
   "metadata": {},
   "outputs": [],
   "source": [
    "from sklearn.model_selection import train_test_split"
   ]
  },
  {
   "cell_type": "code",
   "execution_count": 90,
   "metadata": {},
   "outputs": [],
   "source": [
    "x = range(1,no_of_days+1)\n",
    "x = np.array(x)\n",
    "x = x.reshape(-1,1)"
   ]
  },
  {
   "cell_type": "code",
   "execution_count": 91,
   "metadata": {},
   "outputs": [],
   "source": [
    "X_train, X_test, y_train, y_test = train_test_split(x, prices, test_size=0.25, random_state=42)"
   ]
  },
  {
   "cell_type": "markdown",
   "metadata": {},
   "source": [
    "Creating Model"
   ]
  },
  {
   "cell_type": "code",
   "execution_count": 92,
   "metadata": {},
   "outputs": [],
   "source": [
    "from sklearn.metrics import mean_absolute_error"
   ]
  },
  {
   "cell_type": "code",
   "execution_count": 105,
   "metadata": {},
   "outputs": [],
   "source": [
    "def helper(model, X_train, y_train):\n",
    "    model.fit(X_train, y_train)\n",
    "    y_pred = model.predict(X_test)\n",
    "    accuracy = mean_absolute_error(y_pred, y_test)\n",
    "    print(f\"Accuracy: {accuracy}\")\n",
    "    return model"
   ]
  },
  {
   "cell_type": "markdown",
   "metadata": {},
   "source": [
    "Gradient Boosting Regression"
   ]
  },
  {
   "cell_type": "code",
   "execution_count": 93,
   "metadata": {},
   "outputs": [],
   "source": [
    "from sklearn.ensemble import GradientBoostingRegressor"
   ]
  },
  {
   "cell_type": "code",
   "execution_count": 121,
   "metadata": {},
   "outputs": [
    {
     "name": "stdout",
     "output_type": "stream",
     "text": [
      "Accuracy: 168.3688828554234\n"
     ]
    }
   ],
   "source": [
    "gradient_boosting_regressor = helper(GradientBoostingRegressor(), X_train, y_train)"
   ]
  },
  {
   "cell_type": "markdown",
   "metadata": {},
   "source": [
    "Elastic Net Regression"
   ]
  },
  {
   "cell_type": "code",
   "execution_count": 123,
   "metadata": {},
   "outputs": [],
   "source": [
    "from sklearn.linear_model import ElasticNet"
   ]
  },
  {
   "cell_type": "code",
   "execution_count": 124,
   "metadata": {},
   "outputs": [
    {
     "name": "stdout",
     "output_type": "stream",
     "text": [
      "Accuracy: 1080.2188641960165\n"
     ]
    }
   ],
   "source": [
    "elastic_net = helper(ElasticNet(), X_train, y_train)"
   ]
  },
  {
   "cell_type": "markdown",
   "metadata": {},
   "source": [
    "Stochastic Gradient Descent Regression"
   ]
  },
  {
   "cell_type": "code",
   "execution_count": 125,
   "metadata": {},
   "outputs": [],
   "source": [
    "from sklearn.linear_model import SGDRegressor"
   ]
  },
  {
   "cell_type": "code",
   "execution_count": 126,
   "metadata": {},
   "outputs": [
    {
     "name": "stdout",
     "output_type": "stream",
     "text": [
      "Accuracy: 32963133124698.348\n"
     ]
    }
   ],
   "source": [
    "stochastic_descent_regression = helper(SGDRegressor(), X_train, y_train)"
   ]
  },
  {
   "cell_type": "markdown",
   "metadata": {},
   "source": [
    "Support Vector Machine"
   ]
  },
  {
   "cell_type": "code",
   "execution_count": 127,
   "metadata": {},
   "outputs": [],
   "source": [
    "from sklearn.svm import SVR"
   ]
  },
  {
   "cell_type": "code",
   "execution_count": 128,
   "metadata": {},
   "outputs": [
    {
     "name": "stdout",
     "output_type": "stream",
     "text": [
      "Accuracy: 3000.367296609027\n"
     ]
    }
   ],
   "source": [
    "support_vector_machine = helper(SVR(),X_train, y_train)"
   ]
  },
  {
   "cell_type": "markdown",
   "metadata": {},
   "source": [
    "Bayesian Ridge Regression"
   ]
  },
  {
   "cell_type": "code",
   "execution_count": 129,
   "metadata": {},
   "outputs": [],
   "source": [
    "from sklearn.linear_model import BayesianRidge"
   ]
  },
  {
   "cell_type": "code",
   "execution_count": 130,
   "metadata": {},
   "outputs": [
    {
     "name": "stdout",
     "output_type": "stream",
     "text": [
      "Accuracy: 1080.1782665386995\n"
     ]
    }
   ],
   "source": [
    "Baysein_Ridge = helper(BayesianRidge(), X_train, y_train)"
   ]
  },
  {
   "cell_type": "markdown",
   "metadata": {},
   "source": [
    "Kernel Ridge Regression"
   ]
  },
  {
   "cell_type": "code",
   "execution_count": 131,
   "metadata": {},
   "outputs": [],
   "source": [
    "from sklearn.kernel_ridge import KernelRidge"
   ]
  },
  {
   "cell_type": "code",
   "execution_count": 132,
   "metadata": {},
   "outputs": [
    {
     "name": "stdout",
     "output_type": "stream",
     "text": [
      "Accuracy: 4504.298257783728\n"
     ]
    }
   ],
   "source": [
    "kernel_ridge = helper(KernelRidge(), X_train, y_train)"
   ]
  },
  {
   "cell_type": "markdown",
   "metadata": {},
   "source": [
    "Linear Regression"
   ]
  },
  {
   "cell_type": "code",
   "execution_count": 133,
   "metadata": {},
   "outputs": [],
   "source": [
    "from sklearn.linear_model import LinearRegression"
   ]
  },
  {
   "cell_type": "code",
   "execution_count": 134,
   "metadata": {},
   "outputs": [
    {
     "name": "stdout",
     "output_type": "stream",
     "text": [
      "Accuracy: 1080.2203543840596\n"
     ]
    }
   ],
   "source": [
    "linear_regression = helper(LinearRegression(), X_train, y_train)"
   ]
  },
  {
   "cell_type": "markdown",
   "metadata": {},
   "source": [
    "Random Forest Regressor"
   ]
  },
  {
   "cell_type": "code",
   "execution_count": 136,
   "metadata": {},
   "outputs": [],
   "source": [
    "from sklearn.ensemble import RandomForestRegressor"
   ]
  },
  {
   "cell_type": "code",
   "execution_count": 137,
   "metadata": {},
   "outputs": [
    {
     "name": "stdout",
     "output_type": "stream",
     "text": [
      "Accuracy: 100.39657973160278\n"
     ]
    }
   ],
   "source": [
    "random_forest = helper(RandomForestRegressor(), X_train, y_train)"
   ]
  }
 ],
 "metadata": {
  "kernelspec": {
   "display_name": "venv",
   "language": "python",
   "name": "python3"
  },
  "language_info": {
   "codemirror_mode": {
    "name": "ipython",
    "version": 3
   },
   "file_extension": ".py",
   "mimetype": "text/x-python",
   "name": "python",
   "nbconvert_exporter": "python",
   "pygments_lexer": "ipython3",
   "version": "3.12.3"
  }
 },
 "nbformat": 4,
 "nbformat_minor": 2
}
